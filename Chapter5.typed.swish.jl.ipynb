{
 "cells": [
  {
   "cell_type": "code",
   "execution_count": 1,
   "metadata": {
    "collapsed": true
   },
   "outputs": [],
   "source": [
    "abstract type AbstractLayer end"
   ]
  },
  {
   "cell_type": "code",
   "execution_count": 2,
   "metadata": {
    "collapsed": true
   },
   "outputs": [],
   "source": [
    "mutable struct MulLayer{T<:AbstractFloat} <: AbstractLayer\n",
    "    x::T\n",
    "    y::T\n",
    "    (::Type{MulLayer{T}})() where {T<:AbstractFloat} = new{T}()\n",
    "end"
   ]
  },
  {
   "cell_type": "code",
   "execution_count": 3,
   "metadata": {},
   "outputs": [
    {
     "data": {
      "text/plain": [
       "forward (generic function with 2 methods)"
      ]
     },
     "execution_count": 3,
     "metadata": {},
     "output_type": "execute_result"
    }
   ],
   "source": [
    "function forward(self::MulLayer{T}, x::T, y::T) where {T<:AbstractFloat}\n",
    "    self.x = x\n",
    "    self.y = y\n",
    "    out = x * y\n",
    "    return out\n",
    "end\n",
    "@inline forward(lyr::MulLayer{T}, x, y) where T = forward(lyr, T(x), T(y))"
   ]
  },
  {
   "cell_type": "code",
   "execution_count": 4,
   "metadata": {},
   "outputs": [
    {
     "data": {
      "text/plain": [
       "backward (generic function with 2 methods)"
      ]
     },
     "execution_count": 4,
     "metadata": {},
     "output_type": "execute_result"
    }
   ],
   "source": [
    "function backward(self::MulLayer{T}, dout::T) where {T<:AbstractFloat}\n",
    "    dx = dout * self.y\n",
    "    dy = dout * self.x\n",
    "    return dx, dy\n",
    "end\n",
    "@inline backward(lyr::MulLayer{T}, dout) where T = backward(lyr, T(dout))"
   ]
  },
  {
   "cell_type": "code",
   "execution_count": 5,
   "metadata": {},
   "outputs": [
    {
     "data": {
      "text/plain": [
       "1.1"
      ]
     },
     "execution_count": 5,
     "metadata": {},
     "output_type": "execute_result"
    }
   ],
   "source": [
    "apple = 100\n",
    "apple_num = 2\n",
    "tax = 1.1"
   ]
  },
  {
   "cell_type": "code",
   "execution_count": 6,
   "metadata": {},
   "outputs": [
    {
     "data": {
      "text/plain": [
       "MulLayer{Float32}(-4.3302503f-36, 4.5708f-41)"
      ]
     },
     "execution_count": 6,
     "metadata": {},
     "output_type": "execute_result"
    }
   ],
   "source": [
    "mul_apple_layer = MulLayer{Float32}()\n",
    "mul_tax_layer = MulLayer{Float32}()"
   ]
  },
  {
   "cell_type": "code",
   "execution_count": 7,
   "metadata": {},
   "outputs": [
    {
     "data": {
      "text/plain": [
       "220.0f0"
      ]
     },
     "execution_count": 7,
     "metadata": {},
     "output_type": "execute_result"
    }
   ],
   "source": [
    "apple_price = forward(mul_apple_layer, apple, apple_num)\n",
    "price = forward(mul_tax_layer, apple_price, tax)"
   ]
  },
  {
   "cell_type": "code",
   "execution_count": 8,
   "metadata": {},
   "outputs": [
    {
     "data": {
      "text/plain": [
       "(2.2f0, 110.0f0, 200.0f0)"
      ]
     },
     "execution_count": 8,
     "metadata": {},
     "output_type": "execute_result"
    }
   ],
   "source": [
    "dprice = 1\n",
    "dapple_price, dtax = backward(mul_tax_layer, dprice)\n",
    "dapple, dapple_num = backward(mul_apple_layer, dapple_price)\n",
    "(dapple, dapple_num, dtax)"
   ]
  },
  {
   "cell_type": "code",
   "execution_count": 9,
   "metadata": {},
   "outputs": [
    {
     "data": {
      "text/plain": [
       "backward (generic function with 4 methods)"
      ]
     },
     "execution_count": 9,
     "metadata": {},
     "output_type": "execute_result"
    }
   ],
   "source": [
    "mutable struct AddLayer{T<:AbstractFloat} <: AbstractLayer end\n",
    "\n",
    "function forward(self::AddLayer{T}, x::T, y::T) where {T<:AbstractFloat}\n",
    "    out = x + y\n",
    "    return out\n",
    "end\n",
    "@inline forward(lyr::AddLayer{T}, x, y) where T = forward(lyr, T(x), T(y))\n",
    "    \n",
    "function backward(self::AddLayer{T}, dout::T) where {T<:AbstractFloat}\n",
    "    dx = dout * 1\n",
    "    dy = dout * 1\n",
    "    return dx, dy\n",
    "end\n",
    "@inline backward(lyr::AddLayer{T}, dout) where T = backward(lyr, T(dout))"
   ]
  },
  {
   "cell_type": "code",
   "execution_count": 10,
   "metadata": {},
   "outputs": [
    {
     "data": {
      "text/plain": [
       "1.1"
      ]
     },
     "execution_count": 10,
     "metadata": {},
     "output_type": "execute_result"
    }
   ],
   "source": [
    "apple = 100\n",
    "apple_num = 2\n",
    "orange = 150\n",
    "orange_num = 3\n",
    "tax = 1.1"
   ]
  },
  {
   "cell_type": "code",
   "execution_count": 11,
   "metadata": {},
   "outputs": [
    {
     "data": {
      "text/plain": [
       "MulLayer{Float32}(3.0567f-41, 0.0f0)"
      ]
     },
     "execution_count": 11,
     "metadata": {},
     "output_type": "execute_result"
    }
   ],
   "source": [
    "mul_apple_layer = MulLayer{Float32}()\n",
    "mul_orange_layer = MulLayer{Float32}()\n",
    "add_apple_orange_layer = AddLayer{Float32}()\n",
    "mul_tax_layer = MulLayer{Float32}()"
   ]
  },
  {
   "cell_type": "code",
   "execution_count": 12,
   "metadata": {},
   "outputs": [
    {
     "data": {
      "text/plain": [
       "715.0f0"
      ]
     },
     "execution_count": 12,
     "metadata": {},
     "output_type": "execute_result"
    }
   ],
   "source": [
    "apple_price = forward(mul_apple_layer, apple, apple_num)\n",
    "orange_price = forward(mul_orange_layer, orange, orange_num)\n",
    "all_price = forward(add_apple_orange_layer, apple_price, orange_price)\n",
    "price = forward(mul_tax_layer, all_price, tax)"
   ]
  },
  {
   "cell_type": "code",
   "execution_count": 13,
   "metadata": {},
   "outputs": [
    {
     "data": {
      "text/plain": [
       "(2.2f0, 110.0f0, 3.3000002f0, 165.0f0, 650.0f0)"
      ]
     },
     "execution_count": 13,
     "metadata": {},
     "output_type": "execute_result"
    }
   ],
   "source": [
    "dprice = 1\n",
    "dall_price, dtax = backward(mul_tax_layer, dprice)\n",
    "dapple_price, dorange_price = backward(add_apple_orange_layer, dall_price)\n",
    "dorange, dorange_num = backward(mul_orange_layer, dorange_price)\n",
    "dapple, dapple_num = backward(mul_apple_layer, dapple_price)\n",
    "(dapple, dapple_num, dorange, dorange_num, dtax)"
   ]
  },
  {
   "cell_type": "markdown",
   "metadata": {},
   "source": [
    "## Relu"
   ]
  },
  {
   "cell_type": "code",
   "execution_count": 14,
   "metadata": {
    "collapsed": true
   },
   "outputs": [],
   "source": [
    "mutable struct ReluLayer{T<:AbstractFloat} <: AbstractLayer\n",
    "    mask::AbstractArray{Bool}\n",
    "    (::Type{ReluLayer{T}})() where {T} = new{T}()\n",
    "end"
   ]
  },
  {
   "cell_type": "code",
   "execution_count": 15,
   "metadata": {},
   "outputs": [
    {
     "data": {
      "text/plain": [
       "forward (generic function with 5 methods)"
      ]
     },
     "execution_count": 15,
     "metadata": {},
     "output_type": "execute_result"
    }
   ],
   "source": [
    "function forward(self::ReluLayer{T}, x::AbstractArray{T}) where {T<:AbstractFloat}\n",
    "    mask = self.mask = (x .<= 0)\n",
    "    out = copy(x)\n",
    "    out[mask] .= zero(T)\n",
    "    out\n",
    "end"
   ]
  },
  {
   "cell_type": "code",
   "execution_count": 16,
   "metadata": {},
   "outputs": [
    {
     "data": {
      "text/plain": [
       "backward (generic function with 5 methods)"
      ]
     },
     "execution_count": 16,
     "metadata": {},
     "output_type": "execute_result"
    }
   ],
   "source": [
    "function backward(self::ReluLayer{T}, dout::AbstractArray{T}) where {T<:AbstractFloat}\n",
    "    dout[self.mask] .= zero(T)\n",
    "    dout\n",
    "end"
   ]
  },
  {
   "cell_type": "code",
   "execution_count": 17,
   "metadata": {},
   "outputs": [
    {
     "data": {
      "text/plain": [
       "2×2 Array{Float32,2}:\n",
       " 1.0  0.0\n",
       " 0.0  3.0"
      ]
     },
     "execution_count": 17,
     "metadata": {},
     "output_type": "execute_result"
    }
   ],
   "source": [
    "relulyr = ReluLayer{Float32}()\n",
    "forward(relulyr, Float32[1.0 -0.5; -2.0 3.0])"
   ]
  },
  {
   "cell_type": "code",
   "execution_count": 18,
   "metadata": {},
   "outputs": [
    {
     "data": {
      "text/plain": [
       "2×2 Array{Bool,2}:\n",
       " false   true\n",
       "  true  false"
      ]
     },
     "execution_count": 18,
     "metadata": {},
     "output_type": "execute_result"
    }
   ],
   "source": [
    "relulyr.mask"
   ]
  },
  {
   "cell_type": "code",
   "execution_count": 19,
   "metadata": {},
   "outputs": [
    {
     "data": {
      "text/plain": [
       "2×2 Array{Float32,2}:\n",
       " 1.0  0.0\n",
       " 0.0  1.0"
      ]
     },
     "execution_count": 19,
     "metadata": {},
     "output_type": "execute_result"
    }
   ],
   "source": [
    "backward(relulyr, Float32[1.0 1.0; 1.0 1.0])"
   ]
  },
  {
   "cell_type": "markdown",
   "metadata": {},
   "source": [
    "## Sigmoid"
   ]
  },
  {
   "cell_type": "code",
   "execution_count": 20,
   "metadata": {},
   "outputs": [
    {
     "data": {
      "text/plain": [
       "sigmoid (generic function with 1 method)"
      ]
     },
     "execution_count": 20,
     "metadata": {},
     "output_type": "execute_result"
    }
   ],
   "source": [
    "sigmoid(x::T) where {T<:AbstractFloat} = inv(one(T) + exp(-x))"
   ]
  },
  {
   "cell_type": "code",
   "execution_count": 21,
   "metadata": {
    "collapsed": true
   },
   "outputs": [],
   "source": [
    "mutable struct SigmoidLayer{T<:AbstractFloat} <: AbstractLayer\n",
    "    out::AbstractArray{T}\n",
    "    (::Type{SigmoidLayer{T}})() where {T} = new{T}()\n",
    "end"
   ]
  },
  {
   "cell_type": "code",
   "execution_count": 22,
   "metadata": {},
   "outputs": [
    {
     "data": {
      "text/plain": [
       "forward (generic function with 6 methods)"
      ]
     },
     "execution_count": 22,
     "metadata": {},
     "output_type": "execute_result"
    }
   ],
   "source": [
    "function forward(self::SigmoidLayer{T}, x::A) where {T<:AbstractFloat, A<:AbstractArray{T}}\n",
    "    self.out = sigmoid.(x)\n",
    "end"
   ]
  },
  {
   "cell_type": "code",
   "execution_count": 23,
   "metadata": {},
   "outputs": [
    {
     "data": {
      "text/plain": [
       "backward (generic function with 6 methods)"
      ]
     },
     "execution_count": 23,
     "metadata": {},
     "output_type": "execute_result"
    }
   ],
   "source": [
    "function backward(self::SigmoidLayer{T}, dout::A) where {T<:AbstractFloat, A<:AbstractArray{T}}\n",
    "    dout .* (one(T) .- self.out) .* self.out\n",
    "end"
   ]
  },
  {
   "cell_type": "code",
   "execution_count": 24,
   "metadata": {},
   "outputs": [
    {
     "data": {
      "text/plain": [
       "11-element Array{Float32,1}:\n",
       " 0.00669285\n",
       " 0.0179862 \n",
       " 0.0474259 \n",
       " 0.119203  \n",
       " 0.268941  \n",
       " 0.5       \n",
       " 0.731059  \n",
       " 0.880797  \n",
       " 0.952574  \n",
       " 0.982014  \n",
       " 0.993307  "
      ]
     },
     "execution_count": 24,
     "metadata": {},
     "output_type": "execute_result"
    }
   ],
   "source": [
    "sigmoidlyr = SigmoidLayer{Float32}()\n",
    "forward(sigmoidlyr, Float32[-5:5;])"
   ]
  },
  {
   "cell_type": "code",
   "execution_count": 25,
   "metadata": {},
   "outputs": [
    {
     "data": {
      "text/plain": [
       "11-element Array{Float32,1}:\n",
       " 0.00664806\n",
       " 0.0176627 \n",
       " 0.0451767 \n",
       " 0.104994  \n",
       " 0.196612  \n",
       " 0.25      \n",
       " 0.196612  \n",
       " 0.104994  \n",
       " 0.0451767 \n",
       " 0.0176627 \n",
       " 0.00664803"
      ]
     },
     "execution_count": 25,
     "metadata": {},
     "output_type": "execute_result"
    }
   ],
   "source": [
    "backward(sigmoidlyr, ones(Float32,11))"
   ]
  },
  {
   "cell_type": "markdown",
   "metadata": {},
   "source": [
    "## Swish"
   ]
  },
  {
   "cell_type": "markdown",
   "metadata": {},
   "source": [
    "https://arxiv.org/pdf/1710.05941.pdf\n",
    "\n",
    "${\\rm swish}(x) = x \\cdot {\\rm sigmod}(x)$"
   ]
  },
  {
   "cell_type": "code",
   "execution_count": 26,
   "metadata": {
    "collapsed": true
   },
   "outputs": [],
   "source": [
    "mutable struct SwishLayer{T<:AbstractFloat} <: AbstractLayer\n",
    "    out::AbstractArray{T}\n",
    "    ς::AbstractArray{T} # ← sigmoid\n",
    "    (::Type{SwishLayer{T}})() where {T} = new{T}()\n",
    "end"
   ]
  },
  {
   "cell_type": "code",
   "execution_count": 27,
   "metadata": {},
   "outputs": [
    {
     "data": {
      "text/plain": [
       "forward (generic function with 7 methods)"
      ]
     },
     "execution_count": 27,
     "metadata": {},
     "output_type": "execute_result"
    }
   ],
   "source": [
    "function forward(self::SwishLayer{T}, x::A) where {T<:AbstractFloat, A<:AbstractArray{T}}\n",
    "    ς = self.ς = sigmoid.(x)\n",
    "    self.out = x .* ς\n",
    "end"
   ]
  },
  {
   "cell_type": "code",
   "execution_count": 28,
   "metadata": {},
   "outputs": [
    {
     "data": {
      "text/plain": [
       "backward (generic function with 7 methods)"
      ]
     },
     "execution_count": 28,
     "metadata": {},
     "output_type": "execute_result"
    }
   ],
   "source": [
    "function backward(self::SwishLayer{T}, dout::A) where {T<:AbstractFloat, A<:AbstractArray{T}}\n",
    "    dout .* (self.out .+ self.ς .* (one(T) .- self.out))\n",
    "end"
   ]
  },
  {
   "cell_type": "code",
   "execution_count": 29,
   "metadata": {},
   "outputs": [
    {
     "data": {
      "text/plain": [
       "11-element Array{Float32,1}:\n",
       " -0.0334643\n",
       " -0.0719448\n",
       " -0.142278 \n",
       " -0.238406 \n",
       " -0.268941 \n",
       "  0.0      \n",
       "  0.731059 \n",
       "  1.76159  \n",
       "  2.85772  \n",
       "  3.92806  \n",
       "  4.96654  "
      ]
     },
     "execution_count": 29,
     "metadata": {},
     "output_type": "execute_result"
    }
   ],
   "source": [
    "swishlyr = SwishLayer{Float32}()\n",
    "forward(swishlyr, Float32[-5:5;])"
   ]
  },
  {
   "cell_type": "code",
   "execution_count": 30,
   "metadata": {},
   "outputs": [
    {
     "data": {
      "text/plain": [
       "11-element Array{Float32,1}:\n",
       " -0.0265474\n",
       " -0.0526646\n",
       " -0.0881041\n",
       " -0.0907843\n",
       "  0.0723295\n",
       "  0.5      \n",
       "  0.927671 \n",
       "  1.09078  \n",
       "  1.0881   \n",
       "  1.05266  \n",
       "  1.02655  "
      ]
     },
     "execution_count": 30,
     "metadata": {},
     "output_type": "execute_result"
    }
   ],
   "source": [
    "backward(swishlyr, ones(Float32,11))"
   ]
  },
  {
   "cell_type": "markdown",
   "metadata": {},
   "source": [
    "### 5.6.2 バッチ版 Affine レイヤ"
   ]
  },
  {
   "cell_type": "code",
   "execution_count": 31,
   "metadata": {
    "collapsed": true
   },
   "outputs": [],
   "source": [
    "mutable struct AffineLayer{T<:AbstractFloat} <: AbstractLayer\n",
    "    W::AbstractMatrix{T}\n",
    "    b::AbstractVector{T}\n",
    "    x::AbstractArray{T}\n",
    "    dW::AbstractMatrix{T}\n",
    "    db::AbstractVector{T}\n",
    "    function (::Type{AffineLayer})(W::AbstractMatrix{T}, b::AbstractVector{T}) where {T}\n",
    "        lyr = new{T}()\n",
    "        lyr.W = W\n",
    "        lyr.b = b\n",
    "        lyr\n",
    "    end\n",
    "end"
   ]
  },
  {
   "cell_type": "code",
   "execution_count": 32,
   "metadata": {},
   "outputs": [
    {
     "data": {
      "text/plain": [
       "forward (generic function with 8 methods)"
      ]
     },
     "execution_count": 32,
     "metadata": {},
     "output_type": "execute_result"
    }
   ],
   "source": [
    "function forward(self::AffineLayer{T}, x::A) where {T<:AbstractFloat, A<:AbstractArray{T}}\n",
    "    self.x = x\n",
    "    self.W * x .+ self.b\n",
    "end"
   ]
  },
  {
   "cell_type": "code",
   "execution_count": 33,
   "metadata": {},
   "outputs": [
    {
     "data": {
      "text/plain": [
       "_sumvec (generic function with 3 methods)"
      ]
     },
     "execution_count": 33,
     "metadata": {},
     "output_type": "execute_result"
    }
   ],
   "source": [
    "function backward(self::AffineLayer{T}, dout::A) where {T<:AbstractFloat, A<:AbstractArray{T}}\n",
    "    dx = self.W' * dout\n",
    "    self.dW = dout * self.x'\n",
    "    self.db = _sumvec(dout)\n",
    "    dx\n",
    "end\n",
    "@inline _sumvec{T}(dout::AbstractVector{T}) = dout\n",
    "@inline _sumvec{T}(dout::AbstractMatrix{T}) = vec(mapslices(sum, dout, 2))\n",
    "@inline _sumvec{T,N}(dout::AbstractArray{T,N}) = vec(mapslices(sum, dout, 2:N))"
   ]
  },
  {
   "cell_type": "markdown",
   "metadata": {},
   "source": [
    "### 5.6.3 Softmax-with-Loss レイヤ"
   ]
  },
  {
   "cell_type": "code",
   "execution_count": 34,
   "metadata": {},
   "outputs": [
    {
     "data": {
      "text/plain": [
       "softmax (generic function with 2 methods)"
      ]
     },
     "execution_count": 34,
     "metadata": {},
     "output_type": "execute_result"
    }
   ],
   "source": [
    "function softmax(a::AbstractVector{T}) where {T<:AbstractFloat}\n",
    "    c = maximum(a)  # オーバーフロー対策\n",
    "    exp_a = exp.(a .- c)\n",
    "    exp_a ./ sum(exp_a)\n",
    "end\n",
    "\n",
    "function softmax(a::AbstractMatrix{T}) where {T<:AbstractFloat}\n",
    "    mapslices(softmax, a, 1)\n",
    "end"
   ]
  },
  {
   "cell_type": "code",
   "execution_count": 35,
   "metadata": {},
   "outputs": [
    {
     "data": {
      "text/plain": [
       "crossentropyerror (generic function with 3 methods)"
      ]
     },
     "execution_count": 35,
     "metadata": {},
     "output_type": "execute_result"
    }
   ],
   "source": [
    "function crossentropyerror(y::Vector, t::Vector)\n",
    "    δ = 1e-7  # アンダーフロー対策\n",
    "    # -sum(t .* log.(y .+ δ))\n",
    "    -(t ⋅ log.(y .+ δ))\n",
    "end\n",
    "function crossentropyerror(y::Matrix, t::Matrix)\n",
    "    batch_size = size(y, 2)\n",
    "    δ = 1e-7  # アンダーフロー対策\n",
    "    # -sum(t .* log(y .+ δ)) / batch_size\n",
    "    -vecdot(t, log.(y .+ δ)) / batch_size\n",
    "end\n",
    "function crossentropyerror(y::Matrix, t::Vector)\n",
    "    batch_size = size(y, 2)\n",
    "    δ = 1e-7  # アンダーフロー対策\n",
    "    -sum([log.(y[t[i]+1, i]) for i=1:batch_size] .+ δ) / batch_size\n",
    "end"
   ]
  },
  {
   "cell_type": "code",
   "execution_count": 36,
   "metadata": {
    "collapsed": true
   },
   "outputs": [],
   "source": [
    "mutable struct SoftmaxWithLossLayer{T<:AbstractFloat} <: AbstractLayer\n",
    "    loss::T\n",
    "    y::AbstractArray{T}\n",
    "    t::AbstractArray{T}\n",
    "    (::Type{SoftmaxWithLossLayer{T}})() where {T} = new{T}()\n",
    "end"
   ]
  },
  {
   "cell_type": "code",
   "execution_count": 37,
   "metadata": {},
   "outputs": [
    {
     "data": {
      "text/plain": [
       "forward (generic function with 9 methods)"
      ]
     },
     "execution_count": 37,
     "metadata": {},
     "output_type": "execute_result"
    }
   ],
   "source": [
    "function forward(self::SoftmaxWithLossLayer{T}, x::AbstractArray{T}, t::AbstractArray{T}) where {T<:AbstractFloat}\n",
    "    self.t = t\n",
    "    y = self.y = softmax(x)\n",
    "    self.loss = crossentropyerror(y, t)\n",
    "end"
   ]
  },
  {
   "cell_type": "code",
   "execution_count": 38,
   "metadata": {},
   "outputs": [
    {
     "data": {
      "text/plain": [
       "_swlvec (generic function with 2 methods)"
      ]
     },
     "execution_count": 38,
     "metadata": {},
     "output_type": "execute_result"
    }
   ],
   "source": [
    "function backward(lyr::SoftmaxWithLossLayer{T}, dout::T=one(T)) where {T<:AbstractFloat}\n",
    "    dout .* _swlvec(lyr.y, lyr.t)\n",
    "end\n",
    "@inline _swlvec(y::AbstractArray{T}, t::AbstractVector{T}) where {T<:AbstractFloat} = y .- t\n",
    "@inline _swlvec(y::AbstractArray{T}, t::AbstractMatrix{T}) where {T<:AbstractFloat} = (y .- t) / size(t)[2]"
   ]
  },
  {
   "cell_type": "markdown",
   "metadata": {},
   "source": [
    "### 5.7.2 誤差逆伝播法に対応したニューラルネットワークの実装"
   ]
  },
  {
   "cell_type": "code",
   "execution_count": 39,
   "metadata": {
    "collapsed": true
   },
   "outputs": [],
   "source": [
    "mutable struct TwoLayerNet{T<:AbstractFloat}\n",
    "    a1lyr::AffineLayer{T}\n",
    "    swish1lyr::SwishLayer\n",
    "    a2lyr::AffineLayer{T}\n",
    "    softmaxlyr::SoftmaxWithLossLayer{T}\n",
    "end\n",
    "\n",
    "function (::Type{TwoLayerNet{T}})(input_size::Int, hidden_size::Int, output_size::Int,\n",
    "        weight_init_std::T=T(0.01)) where {T<:AbstractFloat}\n",
    "    W1 = weight_init_std .* randn(T, hidden_size, input_size)\n",
    "    b1 = zeros(T, hidden_size)\n",
    "    W2 = weight_init_std .* randn(T, output_size, hidden_size)\n",
    "    b2 = zeros(T, output_size)\n",
    "    a1lyr = AffineLayer(W1, b1)\n",
    "    swish1lyr = SwishLayer{T}()\n",
    "    a2lyr = AffineLayer(W2, b2)\n",
    "    softmaxlyr = SoftmaxWithLossLayer{T}()\n",
    "    TwoLayerNet(a1lyr, swish1lyr, a2lyr, softmaxlyr)\n",
    "end"
   ]
  },
  {
   "cell_type": "code",
   "execution_count": 40,
   "metadata": {},
   "outputs": [
    {
     "data": {
      "text/plain": [
       "predict (generic function with 1 method)"
      ]
     },
     "execution_count": 40,
     "metadata": {},
     "output_type": "execute_result"
    }
   ],
   "source": [
    "function predict(net::TwoLayerNet{T}, x::AbstractArray{T}) where {T<:AbstractFloat}\n",
    "    a1 = forward(net.a1lyr, x)\n",
    "    z1 = forward(net.swish1lyr, a1)\n",
    "    a2 = forward(net.a2lyr, z1)\n",
    "    # softmax(a2)\n",
    "    a2\n",
    "end"
   ]
  },
  {
   "cell_type": "code",
   "execution_count": 41,
   "metadata": {},
   "outputs": [
    {
     "data": {
      "text/plain": [
       "loss (generic function with 1 method)"
      ]
     },
     "execution_count": 41,
     "metadata": {},
     "output_type": "execute_result"
    }
   ],
   "source": [
    "function loss(net::TwoLayerNet{T}, x::AbstractArray{T}, t::AbstractArray{T}) where {T<:AbstractFloat}\n",
    "    y = predict(net, x)\n",
    "    forward(net.softmaxlyr, y, t)\n",
    "end"
   ]
  },
  {
   "cell_type": "code",
   "execution_count": 42,
   "metadata": {},
   "outputs": [
    {
     "data": {
      "text/plain": [
       "accuracy (generic function with 1 method)"
      ]
     },
     "execution_count": 42,
     "metadata": {},
     "output_type": "execute_result"
    }
   ],
   "source": [
    "function accuracy(net::TwoLayerNet{T}, x::AbstractArray{T}, t::AbstractArray{T}) where {T<:AbstractFloat}\n",
    "    y = vec(mapslices(indmax, predict(net, x), 1))\n",
    "    if ndims(t) > 1 t = vec(mapslices(indmax, t, 1)) end\n",
    "    mean(y .== t)\n",
    "end"
   ]
  },
  {
   "cell_type": "code",
   "execution_count": 43,
   "metadata": {
    "collapsed": true
   },
   "outputs": [],
   "source": [
    "struct TwoLayerNetGrads{T}\n",
    "    W1::AbstractMatrix{T}\n",
    "    b1::AbstractVector{T}\n",
    "    W2::AbstractMatrix{T}\n",
    "    b2::AbstractVector{T}\n",
    "end"
   ]
  },
  {
   "cell_type": "code",
   "execution_count": 44,
   "metadata": {
    "collapsed": true
   },
   "outputs": [],
   "source": [
    "function Base.gradient(net::TwoLayerNet{T}, x::AbstractArray{T}, t::AbstractArray{T}) where {T<:AbstractFloat}\n",
    "    # forward\n",
    "    loss(net, x, t)\n",
    "    # backward\n",
    "    dout = one(T)\n",
    "    dz2 = backward(net.softmaxlyr, dout)\n",
    "    da2 = backward(net.a2lyr, dz2)\n",
    "    dz1 = backward(net.swish1lyr, da2)\n",
    "    da1 = backward(net.a1lyr, dz1)\n",
    "    TwoLayerNetGrads(net.a1lyr.dW, net.a1lyr.db, net.a2lyr.dW, net.a2lyr.db)\n",
    "end"
   ]
  },
  {
   "cell_type": "code",
   "execution_count": 45,
   "metadata": {},
   "outputs": [
    {
     "data": {
      "text/plain": [
       "applygradient! (generic function with 1 method)"
      ]
     },
     "execution_count": 45,
     "metadata": {},
     "output_type": "execute_result"
    }
   ],
   "source": [
    "function applygradient!(net::TwoLayerNet{T}, grads::TwoLayerNetGrads{T}, learning_rate::T) where {T<:AbstractFloat}\n",
    "    net.a1lyr.W -= learning_rate .* grads.W1\n",
    "    net.a1lyr.b -= learning_rate .* grads.b1\n",
    "    net.a2lyr.W -= learning_rate .* grads.W2\n",
    "    net.a2lyr.b -= learning_rate .* grads.b2\n",
    "end"
   ]
  },
  {
   "cell_type": "markdown",
   "metadata": {},
   "source": [
    "### 5.7.3 誤差逆伝播法の勾配確認"
   ]
  },
  {
   "cell_type": "code",
   "execution_count": 46,
   "metadata": {},
   "outputs": [
    {
     "data": {
      "text/plain": [
       "LoadMnist"
      ]
     },
     "execution_count": 46,
     "metadata": {},
     "output_type": "execute_result"
    }
   ],
   "source": [
    "include(\"dataset/load_mnist.jl\")"
   ]
  },
  {
   "cell_type": "code",
   "execution_count": 47,
   "metadata": {},
   "outputs": [
    {
     "data": {
      "text/plain": [
       "((Float32[0.0 0.0 … 0.0 0.0; 0.0 0.0 … 0.0 0.0; … ; 0.0 0.0 … 0.0 0.0; 0.0 0.0 … 0.0 0.0], UInt8[0x00 0x01 … 0x00 0x00; 0x00 0x00 … 0x00 0x00; … ; 0x00 0x00 … 0x00 0x01; 0x00 0x00 … 0x00 0x00]), (Float32[0.0 0.0 … 0.0 0.0; 0.0 0.0 … 0.0 0.0; … ; 0.0 0.0 … 0.0 0.0; 0.0 0.0 … 0.0 0.0], UInt8[0x00 0x00 … 0x00 0x00; 0x00 0x00 … 0x00 0x00; … ; 0x00 0x00 … 0x00 0x00; 0x00 0x00 … 0x00 0x00]))"
      ]
     },
     "execution_count": 47,
     "metadata": {},
     "output_type": "execute_result"
    }
   ],
   "source": [
    "(x_train, t_train), (x_test, t_test) = LoadMnist.load_mnist(;\n",
    "        normalize=true, flatten=true, one_hot_label=true)"
   ]
  },
  {
   "cell_type": "code",
   "execution_count": 48,
   "metadata": {},
   "outputs": [
    {
     "data": {
      "text/plain": [
       "(10, 60000)"
      ]
     },
     "execution_count": 48,
     "metadata": {},
     "output_type": "execute_result"
    }
   ],
   "source": [
    "size(t_train)"
   ]
  },
  {
   "cell_type": "code",
   "execution_count": 49,
   "metadata": {},
   "outputs": [
    {
     "data": {
      "text/plain": [
       "TwoLayerNet{Float32}(AffineLayer{Float32}(Float32[-0.00437213 -0.00535684 … 0.0208077 -0.0142625; 0.0066374 0.00116072 … 0.000623654 0.00130582; … ; 0.0053605 -0.00484072 … -0.0072852 0.000980641; -0.0023288 -0.00294006 … -0.0161009 0.0108982], Float32[0.0, 0.0, 0.0, 0.0, 0.0, 0.0, 0.0, 0.0, 0.0, 0.0  …  0.0, 0.0, 0.0, 0.0, 0.0, 0.0, 0.0, 0.0, 0.0, 0.0], #undef, #undef, #undef), SwishLayer{Float32}(#undef, #undef), AffineLayer{Float32}(Float32[0.0108438 0.0110532 … -0.0168137 -0.00225051; 0.00364182 0.0196788 … 0.0022597 -0.0160295; … ; 0.0102572 0.00416515 … 0.0103969 0.0134615; -0.00396176 -0.00276896 … 0.0133701 0.00257647], Float32[0.0, 0.0, 0.0, 0.0, 0.0, 0.0, 0.0, 0.0, 0.0, 0.0], #undef, #undef, #undef), SoftmaxWithLossLayer{Float32}(-6.253567f-37, #undef, #undef))"
      ]
     },
     "execution_count": 49,
     "metadata": {},
     "output_type": "execute_result"
    }
   ],
   "source": [
    "network = TwoLayerNet{Float32}(784, 50, 10)"
   ]
  },
  {
   "cell_type": "code",
   "execution_count": 50,
   "metadata": {},
   "outputs": [
    {
     "data": {
      "text/plain": [
       "784×3 Array{Float32,2}:\n",
       " 0.0  0.0  0.0\n",
       " 0.0  0.0  0.0\n",
       " 0.0  0.0  0.0\n",
       " 0.0  0.0  0.0\n",
       " 0.0  0.0  0.0\n",
       " 0.0  0.0  0.0\n",
       " 0.0  0.0  0.0\n",
       " 0.0  0.0  0.0\n",
       " 0.0  0.0  0.0\n",
       " 0.0  0.0  0.0\n",
       " 0.0  0.0  0.0\n",
       " 0.0  0.0  0.0\n",
       " 0.0  0.0  0.0\n",
       " ⋮            \n",
       " 0.0  0.0  0.0\n",
       " 0.0  0.0  0.0\n",
       " 0.0  0.0  0.0\n",
       " 0.0  0.0  0.0\n",
       " 0.0  0.0  0.0\n",
       " 0.0  0.0  0.0\n",
       " 0.0  0.0  0.0\n",
       " 0.0  0.0  0.0\n",
       " 0.0  0.0  0.0\n",
       " 0.0  0.0  0.0\n",
       " 0.0  0.0  0.0\n",
       " 0.0  0.0  0.0"
      ]
     },
     "execution_count": 50,
     "metadata": {},
     "output_type": "execute_result"
    }
   ],
   "source": [
    "x_batch = x_train[:, 1:3]"
   ]
  },
  {
   "cell_type": "code",
   "execution_count": 51,
   "metadata": {},
   "outputs": [
    {
     "data": {
      "text/plain": [
       "10×3 Array{Float32,2}:\n",
       " 0.0  1.0  0.0\n",
       " 0.0  0.0  0.0\n",
       " 0.0  0.0  0.0\n",
       " 0.0  0.0  0.0\n",
       " 0.0  0.0  1.0\n",
       " 1.0  0.0  0.0\n",
       " 0.0  0.0  0.0\n",
       " 0.0  0.0  0.0\n",
       " 0.0  0.0  0.0\n",
       " 0.0  0.0  0.0"
      ]
     },
     "execution_count": 51,
     "metadata": {},
     "output_type": "execute_result"
    }
   ],
   "source": [
    "t_batch = Matrix{Float32}(t_train[:, 1:3])"
   ]
  },
  {
   "cell_type": "code",
   "execution_count": 52,
   "metadata": {},
   "outputs": [
    {
     "data": {
      "text/plain": [
       "10×3 Array{Float32,2}:\n",
       "  0.000521476  -0.00248234   0.00016534 \n",
       " -0.00190483   -0.00597896   0.00323541 \n",
       " -0.00162247   -0.00112089  -0.000387626\n",
       " -0.00216153   -0.00177305   0.000655555\n",
       " -0.00343322   -0.00300419  -0.00181358 \n",
       "  0.00148688    0.00311847   0.00269657 \n",
       "  0.00205574    0.00127515   0.00359407 \n",
       "  0.00110265    0.00170419   0.00130954 \n",
       " -0.00231802   -0.00197851   0.00196059 \n",
       "  0.00392204    0.00966551   0.00218072 "
      ]
     },
     "execution_count": 52,
     "metadata": {},
     "output_type": "execute_result"
    }
   ],
   "source": [
    "predict(network, x_batch)"
   ]
  },
  {
   "cell_type": "code",
   "execution_count": 53,
   "metadata": {},
   "outputs": [
    {
     "data": {
      "text/plain": [
       "2.3038802571596513"
      ]
     },
     "execution_count": 53,
     "metadata": {},
     "output_type": "execute_result"
    }
   ],
   "source": [
    "loss(network, x_batch, t_batch)\n",
    "# loss(network, x_batch, Matrix{Float32}(t_batch))"
   ]
  },
  {
   "cell_type": "code",
   "execution_count": 54,
   "metadata": {},
   "outputs": [
    {
     "data": {
      "text/plain": [
       "TwoLayerNetGrads{Float32}(Float32[0.0 0.0 … 0.0 0.0; 0.0 0.0 … 0.0 0.0; … ; 0.0 0.0 … 0.0 0.0; 0.0 0.0 … 0.0 0.0], Float32[0.000190139, 0.00185699, -0.000658485, -0.00103952, 0.000873459, -0.00342022, 0.00166121, 0.00290097, 0.00127283, -0.00271686  …  0.00121033, 0.00284127, -0.0029006, 0.00101315, 0.00199662, 0.00325893, 0.000399526, -3.60861f-5, 0.00245165, 0.00178564], Float32[0.0037145 -0.000163236 … 0.00154954 -0.00375592; -0.00197214 0.00335333 … -0.00187564 0.00105822; … ; -0.00197374 0.00335169 … -0.00187489 0.00105998; -0.00198856 0.00336196 … -0.00187813 0.00106985], Float32[-0.233429, 0.0998098, 0.0998598, 0.0998548, -0.233644, -0.233126, 0.100195, 0.100101, 0.0998863, 0.100492])"
      ]
     },
     "execution_count": 54,
     "metadata": {},
     "output_type": "execute_result"
    }
   ],
   "source": [
    "grad_backprop = gradient(network, x_batch, t_batch)"
   ]
  },
  {
   "cell_type": "markdown",
   "metadata": {},
   "source": [
    "### 5.7.4 誤差逆伝播法を使った学習"
   ]
  },
  {
   "cell_type": "code",
   "execution_count": 55,
   "metadata": {},
   "outputs": [
    {
     "data": {
      "text/plain": [
       "TwoLayerNet{Float32}(AffineLayer{Float32}(Float32[0.0105115 -0.000759424 … -0.00163311 -0.00281529; -0.0048874 -0.00136029 … -0.00554172 0.012044; … ; 0.0100392 -0.0111736 … 0.00941741 -0.00328035; 0.00679795 -0.00488278 … 0.0142397 0.00110842], Float32[0.0, 0.0, 0.0, 0.0, 0.0, 0.0, 0.0, 0.0, 0.0, 0.0  …  0.0, 0.0, 0.0, 0.0, 0.0, 0.0, 0.0, 0.0, 0.0, 0.0], #undef, #undef, #undef), SwishLayer{Float32}(#undef, #undef), AffineLayer{Float32}(Float32[0.00740376 0.0297674 … -0.00311229 0.00305034; -0.00724641 -0.00686658 … 0.0167087 -0.0106198; … ; -3.8f-5 0.00181323 … 0.00159703 0.01104; 0.0110531 0.00103081 … 0.00578464 -0.000473667], Float32[0.0, 0.0, 0.0, 0.0, 0.0, 0.0, 0.0, 0.0, 0.0, 0.0], #undef, #undef, #undef), SoftmaxWithLossLayer{Float32}(-4.7411833f-37, #undef, #undef))"
      ]
     },
     "execution_count": 55,
     "metadata": {},
     "output_type": "execute_result"
    }
   ],
   "source": [
    "network = TwoLayerNet{Float32}(784, 50, 10)"
   ]
  },
  {
   "cell_type": "code",
   "execution_count": 56,
   "metadata": {
    "collapsed": true
   },
   "outputs": [],
   "source": [
    "iters_num = 10000;\n",
    "train_size = size(x_train, 2); # => 60000\n",
    "batch_size = 100;\n",
    "learning_rate = Float32(0.1);"
   ]
  },
  {
   "cell_type": "code",
   "execution_count": 57,
   "metadata": {
    "collapsed": true
   },
   "outputs": [],
   "source": [
    "train_loss_list = Float32[];\n",
    "train_acc_list = Float32[];\n",
    "test_acc_list = Float32[];"
   ]
  },
  {
   "cell_type": "code",
   "execution_count": 58,
   "metadata": {},
   "outputs": [
    {
     "data": {
      "text/plain": [
       "600"
      ]
     },
     "execution_count": 58,
     "metadata": {},
     "output_type": "execute_result"
    }
   ],
   "source": [
    "iter_per_epoch = max(train_size ÷ batch_size, 1)"
   ]
  },
  {
   "cell_type": "code",
   "execution_count": 59,
   "metadata": {},
   "outputs": [
    {
     "name": "stdout",
     "output_type": "stream",
     "text": [
      "0: train_acc=0.047516666666666665 / test_acc=0.0425\n",
      "600: train_acc=0.8980166666666667 / test_acc=0.9017\n",
      "1200: train_acc=0.9150666666666667 / test_acc=0.9171\n",
      "1800: train_acc=0.9266166666666666 / test_acc=0.9274\n",
      "2400: train_acc=0.938 / test_acc=0.9351\n",
      "3000: train_acc=0.9419 / test_acc=0.94\n",
      "3600: train_acc=0.9514666666666667 / test_acc=0.9496\n",
      "4200: train_acc=0.9568 / test_acc=0.9532\n",
      "4800: train_acc=0.9595666666666667 / test_acc=0.9567\n",
      "5400: train_acc=0.9634833333333334 / test_acc=0.9596\n",
      "6000: train_acc=0.9673833333333334 / test_acc=0.9644\n",
      "6600: train_acc=0.9694 / test_acc=0.9642\n",
      "7200: train_acc=0.9717833333333333 / test_acc=0.9667\n",
      "7800: train_acc=0.9724333333333334 / test_acc=0.9668\n",
      "8400: train_acc=0.9739666666666666 / test_acc=0.9693\n",
      "9000: train_acc=0.97565 / test_acc=0.9689\n",
      "9600: train_acc=0.9769333333333333 / test_acc=0.9705\n"
     ]
    }
   ],
   "source": [
    "for i = 1:iters_num\n",
    "    batch_mask = rand(1:train_size, batch_size)\n",
    "    x_batch = x_train[:, batch_mask]\n",
    "    t_batch = Matrix{Float32}(t_train[:, batch_mask])\n",
    "    \n",
    "    # 誤差逆伝播法によって勾配を求める\n",
    "    grads = gradient(network, x_batch, t_batch)\n",
    "    \n",
    "    # 更新\n",
    "    applygradient!(network, grads, learning_rate)\n",
    "    \n",
    "    _loss = loss(network, x_batch, t_batch)\n",
    "    push!(train_loss_list, _loss)\n",
    "\n",
    "    if i % iter_per_epoch == 1\n",
    "        train_acc = accuracy(network, x_train, Matrix{Float32}(t_train))\n",
    "        test_acc = accuracy(network, x_test, Matrix{Float32}(t_test))\n",
    "        push!(train_acc_list, train_acc)\n",
    "        push!(test_acc_list, test_acc)\n",
    "        println(\"$(i-1): train_acc=$(train_acc) / test_acc=$(test_acc)\")\n",
    "    end\n",
    "end"
   ]
  },
  {
   "cell_type": "code",
   "execution_count": 60,
   "metadata": {},
   "outputs": [
    {
     "name": "stdout",
     "output_type": "stream",
     "text": [
      "final: train_acc=0.9774333333333334 / test_acc=0.9694\n"
     ]
    }
   ],
   "source": [
    "final_train_acc = accuracy(network, x_train, Matrix{Float32}(t_train))\n",
    "final_test_acc = accuracy(network, x_test, Matrix{Float32}(t_test))\n",
    "push!(train_acc_list, final_train_acc)\n",
    "push!(test_acc_list, final_test_acc)\n",
    "println(\"final: train_acc=$(final_train_acc) / test_acc=$(final_test_acc)\")"
   ]
  },
  {
   "cell_type": "code",
   "execution_count": 61,
   "metadata": {},
   "outputs": [
    {
     "data": {
      "text/plain": [
       "PyPlot"
      ]
     },
     "execution_count": 61,
     "metadata": {},
     "output_type": "execute_result"
    }
   ],
   "source": [
    "using PyPlot\n",
    "const plt = PyPlot"
   ]
  },
  {
   "cell_type": "code",
   "execution_count": 62,
   "metadata": {},
   "outputs": [
    {
     "data": {
      "image/png": "[encoded data removed]",
      "text/plain": [
       "PyPlot.Figure(PyObject <matplotlib.figure.Figure object at 0x7f6a6aaad9b0>)"
      ]
     },
     "metadata": {},
     "output_type": "display_data"
    },
    {
     "data": {
      "text/plain": [
       "1-element Array{Any,1}:\n",
       " PyObject <matplotlib.lines.Line2D object at 0x7f6a5dcaa048>"
      ]
     },
     "execution_count": 62,
     "metadata": {},
     "output_type": "execute_result"
    }
   ],
   "source": [
    "plt.plot(1:length(train_loss_list), train_loss_list)"
   ]
  },
  {
   "cell_type": "code",
   "execution_count": 63,
   "metadata": {},
   "outputs": [
    {
     "data": {
      "image/png": "[encoded data removed]",
      "text/plain": [
       "PyPlot.Figure(PyObject <matplotlib.figure.Figure object at 0x7f6a71cea898>)"
      ]
     },
     "metadata": {},
     "output_type": "display_data"
    },
    {
     "data": {
      "text/plain": [
       "PyObject <matplotlib.legend.Legend object at 0x7f6a5ddf1fd0>"
      ]
     },
     "execution_count": 63,
     "metadata": {},
     "output_type": "execute_result"
    }
   ],
   "source": [
    "x1 = [1:length(train_acc_list);]\n",
    "plt.plot(x1, train_acc_list, label=\"train_acc\")\n",
    "plt.plot(x1, test_acc_list, label=\"test_acc\")\n",
    "plt.legend()"
   ]
  },
  {
   "cell_type": "code",
   "execution_count": null,
   "metadata": {
    "collapsed": true
   },
   "outputs": [],
   "source": []
  }
 ],
 "metadata": {
  "kernelspec": {
   "display_name": "Julia 0.6.0",
   "language": "julia",
   "name": "julia-0.6"
  },
  "language_info": {
   "file_extension": ".jl",
   "mimetype": "application/julia",
   "name": "julia",
   "version": "0.6.0"
  }
 },
 "nbformat": 4,
 "nbformat_minor": 2
}
